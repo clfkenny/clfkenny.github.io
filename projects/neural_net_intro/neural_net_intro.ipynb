{
 "cells": [
  {
   "cell_type": "markdown",
   "metadata": {},
   "source": [
    "## Introduction"
   ]
  },
  {
   "cell_type": "markdown",
   "metadata": {},
   "source": []
  },
  {
   "cell_type": "code",
   "execution_count": 1,
   "metadata": {
    "ExecuteTime": {
     "end_time": "2018-12-17T06:12:52.082458Z",
     "start_time": "2018-12-17T06:12:51.788317Z"
    }
   },
   "outputs": [],
   "source": [
    "import numpy\n",
    "from sklearn import datasets, preprocessing\n",
    "X = datasets.load_boston().data\n",
    "X = preprocessing.normalize(X)\n",
    "y = datasets.load_boston().target"
   ]
  },
  {
   "cell_type": "code",
   "execution_count": 2,
   "metadata": {
    "ExecuteTime": {
     "end_time": "2018-12-17T06:12:54.353637Z",
     "start_time": "2018-12-17T06:12:54.345990Z"
    }
   },
   "outputs": [],
   "source": [
    "class ShallowNet:\n",
    "    \n",
    "    def __init__(self, params):\n",
    "        # collect desired size of layers\n",
    "        self.input_size = params['input_size']\n",
    "        self.hidden_size = params['hidden_size']\n",
    "        self.output_size = params['output_size']\n",
    "        \n",
    "        # initialize weights\n",
    "        self.W1 = np.random.randn(self.hidden_size, self.input_size) # (hid_s, feature_s)\n",
    "        self.b1 = np.zeros((self.hidden_size,1)) # (hid_s, 1)\n",
    "        \n",
    "        self.W2 = np.random.randn(self.output_size, self.hidden_size) # (out_s, hid_s)\n",
    "        self.b2 = np.zeros((self.output_size, 1)) # (out_s, 1)\n",
    "    \n",
    "    def sigmoid(self, x): # sigmoid activation function\n",
    "        return 1/(1+np.exp(-x))\n",
    "    \n",
    "    def sigmoid_p(self, x): # derivative of sigmoid function\n",
    "        return self.sigmoid(x) * (1-self.sigmoid(x))\n",
    "\n",
    "    def forward_prop(self, X):\n",
    "        self.Z1 = self.W1.dot(X.T) + self.b1 # (hid_s, feature_s) x (feature_s, sample_s)\n",
    "        self.A1 = self.sigmoid(self.Z1) # (hid_s, sample_s)\n",
    "        self.out = self.W2.dot(self.A1) + self.b2 #(out_size, hid_size) x (hid_s, sample_s)\n",
    "\n",
    "    def mse(self, y): # calculate cost\n",
    "        return np.sum((self.out-y)**2) / len(y)\n",
    "    \n",
    "    def backward_prop(self, X, y, lr):\n",
    "        # calculate gradients with respect to loss\n",
    "        self.d_out = self.out - y\n",
    "        self.dW2 = (1/self.input_size) * self.d_out.dot(self.A1.T)\n",
    "        self.db2 = (1/self.input_size) * np.sum(self.d_out, axis=1, keepdims = True)\n",
    "        \n",
    "        self.dZ1 = self.W2.T.dot(self.d_out) * self.sigmoid_p(self.Z1)\n",
    "        self.dW1 = (1/self.input_size) * self.dZ1.dot(X)\n",
    "        self.db1 = (1/self.input_size) * np.sum(self.dZ1, axis=1, keepdims= True)\n",
    "        \n",
    "        # update weights using calculated gradients\n",
    "        self.W2 -= lr*self.dW2\n",
    "        self.b2 -= lr*self.db2\n",
    "        self.W1 -= lr*self.dW1\n",
    "        self.b1 -= lr*self.db1\n",
    "    \n",
    "    def one_epoch(self, X, y, lr): # one epoch: forward and back prop \n",
    "        self.forward_prop(X)\n",
    "        self.backward_prop(X, y, lr)\n",
    "        \n",
    "    def predict(self, X_pred):\n",
    "        Z1 = self.W1.dot(X_pred.T) + self.b1\n",
    "        A1 = self.sigmoid(Z1)\n",
    "        out = self.W2.dot(A1) + self.b2\n",
    "        return out\n",
    "        "
   ]
  },
  {
   "cell_type": "code",
   "execution_count": 13,
   "metadata": {
    "ExecuteTime": {
     "end_time": "2018-12-17T06:14:26.631056Z",
     "start_time": "2018-12-17T06:14:26.518929Z"
    }
   },
   "outputs": [
    {
     "name": "stdout",
     "output_type": "stream",
     "text": [
      "Epoch: 1 - MSE: 507.02439374794574\n",
      "Epoch: 2 - MSE: 282.77338655994\n",
      "Epoch: 3 - MSE: 165.6615922825101\n",
      "Epoch: 4 - MSE: 112.41550337217129\n",
      "Epoch: 5 - MSE: 92.58335428539773\n",
      "Epoch: 6 - MSE: 86.10414178882516\n",
      "Epoch: 7 - MSE: 84.01902516307435\n",
      "Epoch: 8 - MSE: 83.21886306079644\n",
      "Epoch: 9 - MSE: 82.77185105947386\n",
      "Epoch: 10 - MSE: 82.4204931054145\n",
      "Epoch: 11 - MSE: 82.09660457442592\n",
      "Epoch: 12 - MSE: 81.78246610995421\n",
      "Epoch: 13 - MSE: 81.47344686658035\n",
      "Epoch: 14 - MSE: 81.16826324811854\n",
      "Epoch: 15 - MSE: 80.86648625917047\n",
      "Epoch: 16 - MSE: 80.56791161239583\n",
      "Epoch: 17 - MSE: 80.27240226885233\n",
      "Epoch: 18 - MSE: 79.9798493649269\n",
      "Epoch: 19 - MSE: 79.6901623173241\n",
      "Epoch: 20 - MSE: 79.40326590619092\n",
      "Epoch: 21 - MSE: 79.11909892369137\n",
      "Epoch: 22 - MSE: 78.83761312144254\n",
      "Epoch: 23 - MSE: 78.55877218831434\n",
      "Epoch: 24 - MSE: 78.28255071810561\n",
      "Epoch: 25 - MSE: 78.00893317263278\n",
      "Epoch: 26 - MSE: 77.73791285187438\n",
      "Epoch: 27 - MSE: 77.4694908816967\n",
      "Epoch: 28 - MSE: 77.20367522804331\n",
      "Epoch: 29 - MSE: 76.94047974523933\n",
      "Epoch: 30 - MSE: 76.67992326511123\n",
      "Epoch: 31 - MSE: 76.42202873275933\n",
      "Epoch: 32 - MSE: 76.16682239392831\n",
      "Epoch: 33 - MSE: 75.91433303795645\n",
      "Epoch: 34 - MSE: 75.6645912992527\n",
      "Epoch: 35 - MSE: 75.41762901917755\n",
      "Epoch: 36 - MSE: 75.17347866912553\n",
      "Epoch: 37 - MSE: 74.93217283456828\n",
      "Epoch: 38 - MSE: 74.69374375884941\n",
      "Epoch: 39 - MSE: 74.45822294466248\n",
      "Epoch: 40 - MSE: 74.22564081041173\n",
      "Epoch: 41 - MSE: 73.99602639806861\n",
      "Epoch: 42 - MSE: 73.76940712870001\n",
      "Epoch: 43 - MSE: 73.54580860155907\n",
      "Epoch: 44 - MSE: 73.325254432482\n",
      "Epoch: 45 - MSE: 73.10776612731811\n",
      "Epoch: 46 - MSE: 72.89336298621271\n",
      "Epoch: 47 - MSE: 72.68206203474654\n",
      "Epoch: 48 - MSE: 72.47387797818985\n",
      "Epoch: 49 - MSE: 72.26882317543557\n",
      "Epoch: 50 - MSE: 72.06690762951219\n",
      "Epoch: 51 - MSE: 71.8681389919304\n",
      "Epoch: 52 - MSE: 71.6725225784704\n",
      "Epoch: 53 - MSE: 71.48006139435888\n",
      "Epoch: 54 - MSE: 71.29075616710705\n",
      "Epoch: 55 - MSE: 71.1046053855763\n",
      "Epoch: 56 - MSE: 70.92160534410277\n",
      "Epoch: 57 - MSE: 70.74175019074306\n",
      "Epoch: 58 - MSE: 70.56503197890149\n",
      "Epoch: 59 - MSE: 70.39144072176384\n",
      "Epoch: 60 - MSE: 70.2209644490971\n",
      "Epoch: 61 - MSE: 70.0535892660793\n",
      "Epoch: 62 - MSE: 69.8892994139057\n",
      "Epoch: 63 - MSE: 69.72807733197467\n",
      "Epoch: 64 - MSE: 69.56990372149795\n",
      "Epoch: 65 - MSE: 69.41475761040444\n",
      "Epoch: 66 - MSE: 69.26261641941986\n",
      "Epoch: 67 - MSE: 69.11345602920854\n",
      "Epoch: 68 - MSE: 68.9672508484608\n",
      "Epoch: 69 - MSE: 68.82397388280152\n",
      "Epoch: 70 - MSE: 68.6835968043871\n",
      "Epoch: 71 - MSE: 68.54609002204495\n",
      "Epoch: 72 - MSE: 68.41142275180135\n",
      "Epoch: 73 - MSE: 68.27956308763119\n",
      "Epoch: 74 - MSE: 68.15047807225778\n",
      "Epoch: 75 - MSE: 68.02413376782256\n",
      "Epoch: 76 - MSE: 67.9004953262434\n",
      "Epoch: 77 - MSE: 67.7795270590776\n",
      "Epoch: 78 - MSE: 67.66119250670846\n",
      "Epoch: 79 - MSE: 67.54545450667794\n",
      "Epoch: 80 - MSE: 67.43227526099395\n",
      "Epoch: 81 - MSE: 67.3216164022494\n",
      "Epoch: 82 - MSE: 67.21343905839956\n",
      "Epoch: 83 - MSE: 67.1077039160556\n",
      "Epoch: 84 - MSE: 67.00437128216444\n",
      "Epoch: 85 - MSE: 66.90340114395785\n",
      "Epoch: 86 - MSE: 66.80475322706737\n",
      "Epoch: 87 - MSE: 66.70838705171533\n",
      "Epoch: 88 - MSE: 66.61426198690594\n",
      "Epoch: 89 - MSE: 66.52233730255395\n",
      "Epoch: 90 - MSE: 66.43257221950157\n",
      "Epoch: 91 - MSE: 66.34492595738729\n",
      "Epoch: 92 - MSE: 66.25935778034197\n",
      "Epoch: 93 - MSE: 66.17582704049902\n",
      "Epoch: 94 - MSE: 66.09429321931631\n",
      "Epoch: 95 - MSE: 66.0147159667172\n",
      "Epoch: 96 - MSE: 65.93705513806646\n",
      "Epoch: 97 - MSE: 65.8612708290061\n",
      "Epoch: 98 - MSE: 65.78732340818196\n",
      "Epoch: 99 - MSE: 65.71517354789951\n",
      "Epoch: 100 - MSE: 65.64478225275236\n"
     ]
    }
   ],
   "source": [
    "epochs = 100\n",
    "lr = 0.001\n",
    "hid_size = 20\n",
    "\n",
    "net = ShallowNet({\"input_size\": X.shape[1], \"hidden_size\": hid_size, 'output_size': 1})\n",
    "for i in range(epochs):\n",
    "    net.one_epoch(X, y, lr)\n",
    "    print('Epoch: {} - MSE: {}'.format(i+1, net.mse(y)))"
   ]
  },
  {
   "cell_type": "code",
   "execution_count": null,
   "metadata": {},
   "outputs": [],
   "source": []
  }
 ],
 "metadata": {
  "kernelspec": {
   "display_name": "Python 3",
   "language": "python",
   "name": "python3"
  },
  "language_info": {
   "codemirror_mode": {
    "name": "ipython",
    "version": 3
   },
   "file_extension": ".py",
   "mimetype": "text/x-python",
   "name": "python",
   "nbconvert_exporter": "python",
   "pygments_lexer": "ipython3",
   "version": "3.6.5"
  },
  "toc": {
   "base_numbering": 1,
   "nav_menu": {},
   "number_sections": true,
   "sideBar": true,
   "skip_h1_title": false,
   "title_cell": "Table of Contents",
   "title_sidebar": "Contents",
   "toc_cell": false,
   "toc_position": {},
   "toc_section_display": true,
   "toc_window_display": false
  },
  "varInspector": {
   "cols": {
    "lenName": 16,
    "lenType": 16,
    "lenVar": "400"
   },
   "kernels_config": {
    "python": {
     "delete_cmd_postfix": "",
     "delete_cmd_prefix": "del ",
     "library": "var_list.py",
     "varRefreshCmd": "print(var_dic_list())"
    },
    "r": {
     "delete_cmd_postfix": ") ",
     "delete_cmd_prefix": "rm(",
     "library": "var_list.r",
     "varRefreshCmd": "cat(var_dic_list()) "
    }
   },
   "types_to_exclude": [
    "module",
    "function",
    "builtin_function_or_method",
    "instance",
    "_Feature"
   ],
   "window_display": false
  }
 },
 "nbformat": 4,
 "nbformat_minor": 2
}
