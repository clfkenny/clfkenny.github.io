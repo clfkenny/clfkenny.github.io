{
 "cells": [
  {
   "cell_type": "markdown",
   "metadata": {},
   "source": [
    "## Introduction"
   ]
  },
  {
   "cell_type": "markdown",
   "metadata": {},
   "source": []
  },
  {
   "cell_type": "markdown",
   "metadata": {},
   "source": [
    "## Table of Contents"
   ]
  },
  {
   "cell_type": "markdown",
   "metadata": {},
   "source": [
    "1. [Feedforward](#)\n",
    "2. [Backpropagation](#)\n",
    "3. [Evaluation](#)"
   ]
  },
  {
   "cell_type": "markdown",
   "metadata": {},
   "source": [
    "## Feedforward"
   ]
  },
  {
   "cell_type": "markdown",
   "metadata": {},
   "source": []
  },
  {
   "cell_type": "code",
   "execution_count": 281,
   "metadata": {
    "ExecuteTime": {
     "end_time": "2018-12-15T02:01:22.229737Z",
     "start_time": "2018-12-15T02:01:22.214049Z"
    }
   },
   "outputs": [],
   "source": [
    "import numpy\n",
    "from sklearn import datasets, preprocessing\n",
    "X = datasets.load_boston().data\n",
    "X = preprocessing.normalize(X)\n",
    "y = datasets.load_boston().target"
   ]
  },
  {
   "cell_type": "code",
   "execution_count": 282,
   "metadata": {
    "ExecuteTime": {
     "end_time": "2018-12-15T02:01:22.545332Z",
     "start_time": "2018-12-15T02:01:22.542124Z"
    }
   },
   "outputs": [],
   "source": [
    "def sigmoid(x):\n",
    "    return 1/(1+np.exp(-x))"
   ]
  },
  {
   "cell_type": "code",
   "execution_count": 283,
   "metadata": {
    "ExecuteTime": {
     "end_time": "2018-12-15T02:01:22.844609Z",
     "start_time": "2018-12-15T02:01:22.840772Z"
    }
   },
   "outputs": [],
   "source": [
    "def forward_prop(X, W, b, W2, b2, activation):\n",
    "    # X is n x m; W is m x d\n",
    "    Z = X.dot(W) + b # layer 1\n",
    "    a = activation(Z) # activation layer 1; n x d\n",
    "    \n",
    "    output = a.dot(W2) + b2\n",
    "    return a, output"
   ]
  },
  {
   "cell_type": "code",
   "execution_count": 284,
   "metadata": {
    "ExecuteTime": {
     "end_time": "2018-12-15T02:01:23.106868Z",
     "start_time": "2018-12-15T02:01:23.103316Z"
    }
   },
   "outputs": [],
   "source": [
    "def calc_loss(pred, y):\n",
    "    loss = np.sum((pred - y)**2) / len(y)\n",
    "    return loss"
   ]
  },
  {
   "cell_type": "code",
   "execution_count": 285,
   "metadata": {
    "ExecuteTime": {
     "end_time": "2018-12-15T02:01:23.378461Z",
     "start_time": "2018-12-15T02:01:23.371010Z"
    }
   },
   "outputs": [],
   "source": [
    "def back_prop(X, pred, y, W, b, W2, b2, a, lr):\n",
    "    loss = pred - y.reshape(-1, 1)\n",
    "    y_delta = loss * (pred * (1-pred))\n",
    "    \n",
    "    z2_err = y_delta.dot(W2.T)\n",
    "    z2_delta = z2_err * (a * (1-a))\n",
    "    \n",
    "    W1_grad = lr * X.T.dot(z2_delta)\n",
    "    W2_grad = lr * a.T.dot(y_delta)\n",
    "    \n",
    "    return W1_grad, W2_grad"
   ]
  },
  {
   "cell_type": "code",
   "execution_count": 293,
   "metadata": {
    "ExecuteTime": {
     "end_time": "2018-12-15T02:05:27.167274Z",
     "start_time": "2018-12-15T02:05:27.162844Z"
    }
   },
   "outputs": [],
   "source": [
    "layer1_size = 20\n",
    "W = np.random.randn(X.shape[1], layer1_size)\n",
    "b = np.zeros((1, layer1_size))\n",
    "\n",
    "W2 = np.random.randn(W.shape[1], 1)\n",
    "b2 = np.zeros((1, 1))"
   ]
  },
  {
   "cell_type": "code",
   "execution_count": 294,
   "metadata": {
    "ExecuteTime": {
     "end_time": "2018-12-15T02:05:27.477609Z",
     "start_time": "2018-12-15T02:05:27.424095Z"
    },
    "collapsed": true
   },
   "outputs": [
    {
     "data": {
      "text/plain": [
       "288842.40009480796"
      ]
     },
     "execution_count": 294,
     "metadata": {},
     "output_type": "execute_result"
    },
    {
     "data": {
      "text/plain": [
       "238218.71584671797"
      ]
     },
     "execution_count": 294,
     "metadata": {},
     "output_type": "execute_result"
    },
    {
     "data": {
      "text/plain": [
       "40313975.508373566"
      ]
     },
     "execution_count": 294,
     "metadata": {},
     "output_type": "execute_result"
    },
    {
     "data": {
      "text/plain": [
       "3.0424960271131484e+18"
      ]
     },
     "execution_count": 294,
     "metadata": {},
     "output_type": "execute_result"
    },
    {
     "data": {
      "text/plain": [
       "6.336878485296209e+51"
      ]
     },
     "execution_count": 294,
     "metadata": {},
     "output_type": "execute_result"
    },
    {
     "data": {
      "text/plain": [
       "1.0178555033136213e+152"
      ]
     },
     "execution_count": 294,
     "metadata": {},
     "output_type": "execute_result"
    },
    {
     "name": "stderr",
     "output_type": "stream",
     "text": [
      "/Users/Kenny/anaconda3/lib/python3.6/site-packages/ipykernel_launcher.py:3: RuntimeWarning: overflow encountered in multiply\n",
      "  This is separate from the ipykernel package so we can avoid doing imports until\n",
      "/Users/Kenny/anaconda3/lib/python3.6/site-packages/ipykernel_launcher.py:6: RuntimeWarning: invalid value encountered in multiply\n",
      "  \n",
      "/Users/Kenny/anaconda3/lib/python3.6/site-packages/ipykernel_launcher.py:2: RuntimeWarning: overflow encountered in square\n",
      "  \n"
     ]
    },
    {
     "data": {
      "text/plain": [
       "inf"
      ]
     },
     "execution_count": 294,
     "metadata": {},
     "output_type": "execute_result"
    },
    {
     "data": {
      "text/plain": [
       "nan"
      ]
     },
     "execution_count": 294,
     "metadata": {},
     "output_type": "execute_result"
    },
    {
     "data": {
      "text/plain": [
       "nan"
      ]
     },
     "execution_count": 294,
     "metadata": {},
     "output_type": "execute_result"
    },
    {
     "data": {
      "text/plain": [
       "nan"
      ]
     },
     "execution_count": 294,
     "metadata": {},
     "output_type": "execute_result"
    }
   ],
   "source": [
    "for i in range(10):\n",
    "    a, pred = forward_prop(X, W, b, W2, b2, sigmoid)\n",
    "    \n",
    "    W1_grad, W2_grad = back_prop(X, pred, y, W, b, W2, b2, a, 0.001)\n",
    "    W -= W1_grad\n",
    "    W2 -= W2_grad\n",
    "    \n",
    "    calc_loss(pred, y)"
   ]
  },
  {
   "cell_type": "code",
   "execution_count": 288,
   "metadata": {
    "ExecuteTime": {
     "end_time": "2018-12-15T02:01:28.123310Z",
     "start_time": "2018-12-15T02:01:28.117493Z"
    },
    "collapsed": true
   },
   "outputs": [
    {
     "data": {
      "text/plain": [
       "(array([[0., 0.],\n",
       "        [0., 0.],\n",
       "        [0., 0.],\n",
       "        [0., 0.],\n",
       "        [0., 0.],\n",
       "        [0., 0.],\n",
       "        [0., 0.],\n",
       "        [0., 0.],\n",
       "        [0., 0.],\n",
       "        [0., 0.],\n",
       "        [0., 0.],\n",
       "        [0., 0.],\n",
       "        [0., 0.]]), array([[0.],\n",
       "        [0.]]))"
      ]
     },
     "execution_count": 288,
     "metadata": {},
     "output_type": "execute_result"
    }
   ],
   "source": [
    "W1_grad, W2_grad\n"
   ]
  },
  {
   "cell_type": "code",
   "execution_count": null,
   "metadata": {},
   "outputs": [],
   "source": []
  }
 ],
 "metadata": {
  "kernelspec": {
   "display_name": "Python 3",
   "language": "python",
   "name": "python3"
  },
  "language_info": {
   "codemirror_mode": {
    "name": "ipython",
    "version": 3
   },
   "file_extension": ".py",
   "mimetype": "text/x-python",
   "name": "python",
   "nbconvert_exporter": "python",
   "pygments_lexer": "ipython3",
   "version": "3.6.5"
  },
  "toc": {
   "base_numbering": 1,
   "nav_menu": {},
   "number_sections": true,
   "sideBar": true,
   "skip_h1_title": false,
   "title_cell": "Table of Contents",
   "title_sidebar": "Contents",
   "toc_cell": false,
   "toc_position": {},
   "toc_section_display": true,
   "toc_window_display": false
  },
  "varInspector": {
   "cols": {
    "lenName": 16,
    "lenType": 16,
    "lenVar": "400"
   },
   "kernels_config": {
    "python": {
     "delete_cmd_postfix": "",
     "delete_cmd_prefix": "del ",
     "library": "var_list.py",
     "varRefreshCmd": "print(var_dic_list())"
    },
    "r": {
     "delete_cmd_postfix": ") ",
     "delete_cmd_prefix": "rm(",
     "library": "var_list.r",
     "varRefreshCmd": "cat(var_dic_list()) "
    }
   },
   "types_to_exclude": [
    "module",
    "function",
    "builtin_function_or_method",
    "instance",
    "_Feature"
   ],
   "window_display": false
  }
 },
 "nbformat": 4,
 "nbformat_minor": 2
}
