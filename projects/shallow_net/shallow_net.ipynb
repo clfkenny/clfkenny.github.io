{
 "cells": [
  {
   "cell_type": "markdown",
   "metadata": {},
   "source": [
    "# Shallow Neural Network (Regression)"
   ]
  },
  {
   "cell_type": "markdown",
   "metadata": {},
   "source": [
    "A simple numpy implementation of a shallow (one layer) neural network for regression problems. Uses sigmoid activation function in the hidden layer. Backpropagation uses batch gradient descent to update parameters. "
   ]
  },
  {
   "cell_type": "code",
   "execution_count": 9,
   "metadata": {
    "ExecuteTime": {
     "end_time": "2018-12-17T06:49:21.134193Z",
     "start_time": "2018-12-17T06:49:21.117106Z"
    }
   },
   "outputs": [],
   "source": [
    "# import packages and data to test program\n",
    "import numpy\n",
    "from sklearn import datasets, preprocessing\n",
    "\n",
    "X = datasets.load_boston().data\n",
    "X = preprocessing.normalize(X)\n",
    "y = datasets.load_boston().target"
   ]
  },
  {
   "cell_type": "code",
   "execution_count": 10,
   "metadata": {
    "ExecuteTime": {
     "end_time": "2018-12-17T06:49:22.126643Z",
     "start_time": "2018-12-17T06:49:22.118920Z"
    }
   },
   "outputs": [],
   "source": [
    "class ShallowNet:\n",
    "    \n",
    "    def __init__(self, params):\n",
    "        # collect desired size of layers\n",
    "        self.input_size = params['input_size']\n",
    "        self.hidden_size = params['hidden_size']\n",
    "        self.output_size = params['output_size']\n",
    "        \n",
    "        # initialize weights\n",
    "        self.W1 = np.random.randn(self.hidden_size, self.input_size) # (hid_s, feature_s)\n",
    "        self.b1 = np.zeros((self.hidden_size,1)) # (hid_s, 1)\n",
    "        \n",
    "        self.W2 = np.random.randn(self.output_size, self.hidden_size) # (out_s, hid_s)\n",
    "        self.b2 = np.zeros((self.output_size, 1)) # (out_s, 1)\n",
    "    \n",
    "    def sigmoid(self, x): # sigmoid activation function\n",
    "        return 1/(1+np.exp(-x))\n",
    "    \n",
    "    def sigmoid_p(self, x): # derivative of sigmoid function\n",
    "        return self.sigmoid(x) * (1-self.sigmoid(x))\n",
    "\n",
    "    def forward_prop(self, X):\n",
    "        self.Z1 = self.W1.dot(X.T) + self.b1 # (hid_s, feature_s) x (feature_s, sample_s)\n",
    "        self.A1 = self.sigmoid(self.Z1) # (hid_s, sample_s)\n",
    "        self.out = self.W2.dot(self.A1) + self.b2 #(out_size, hid_size) x (hid_s, sample_s)\n",
    "\n",
    "    def mse(self, y): # calculate cost\n",
    "        return np.sum((self.out-y)**2) / len(y)\n",
    "    \n",
    "    def backward_prop(self, X, y, lr):\n",
    "        # calculate gradients with respect to loss\n",
    "        self.d_out = self.out - y\n",
    "        self.dW2 = (1/self.input_size) * self.d_out.dot(self.A1.T)\n",
    "        self.db2 = (1/self.input_size) * np.sum(self.d_out, axis=1, keepdims = True)\n",
    "        \n",
    "        self.dZ1 = self.W2.T.dot(self.d_out) * self.sigmoid_p(self.Z1)\n",
    "        self.dW1 = (1/self.input_size) * self.dZ1.dot(X)\n",
    "        self.db1 = (1/self.input_size) * np.sum(self.dZ1, axis=1, keepdims= True)\n",
    "        \n",
    "        # update weights using calculated gradients\n",
    "        self.W2 -= lr*self.dW2\n",
    "        self.b2 -= lr*self.db2\n",
    "        self.W1 -= lr*self.dW1\n",
    "        self.b1 -= lr*self.db1\n",
    "    \n",
    "    def one_epoch(self, X, y, lr): # one epoch: forward and back prop \n",
    "        self.forward_prop(X)\n",
    "        self.backward_prop(X, y, lr)\n",
    "        \n",
    "    def predict(self, X_pred):\n",
    "        Z1 = self.W1.dot(X_pred.T) + self.b1\n",
    "        A1 = self.sigmoid(Z1)\n",
    "        out = self.W2.dot(A1) + self.b2\n",
    "        return out\n",
    "        "
   ]
  },
  {
   "cell_type": "markdown",
   "metadata": {},
   "source": [
    "Testing my class on sample dataset (Scikit-learn's built in Boston housing data)"
   ]
  },
  {
   "cell_type": "code",
   "execution_count": 11,
   "metadata": {
    "ExecuteTime": {
     "end_time": "2018-12-17T06:49:23.737761Z",
     "start_time": "2018-12-17T06:49:23.631188Z"
    }
   },
   "outputs": [
    {
     "name": "stdout",
     "output_type": "stream",
     "text": [
      "Epoch: 1 - MSE: 793.0345556683468\n",
      "Epoch: 2 - MSE: 362.87716141492405\n",
      "Epoch: 3 - MSE: 194.2119238284208\n",
      "Epoch: 4 - MSE: 122.08802074000201\n",
      "Epoch: 5 - MSE: 94.23555429501137\n",
      "Epoch: 6 - MSE: 84.39322553759308\n",
      "Epoch: 7 - MSE: 81.02411345296193\n",
      "Epoch: 8 - MSE: 79.80099187555813\n",
      "Epoch: 9 - MSE: 79.25618599968593\n",
      "Epoch: 10 - MSE: 78.9203150166109\n",
      "Epoch: 11 - MSE: 78.64833191968954\n",
      "Epoch: 12 - MSE: 78.39636763625683\n",
      "Epoch: 13 - MSE: 78.15137771139001\n",
      "Epoch: 14 - MSE: 77.90956951612256\n",
      "Epoch: 15 - MSE: 77.66989707298116\n",
      "Epoch: 16 - MSE: 77.43212186305499\n",
      "Epoch: 17 - MSE: 77.19624025195081\n",
      "Epoch: 18 - MSE: 76.96231591795106\n",
      "Epoch: 19 - MSE: 76.73043103688902\n",
      "Epoch: 20 - MSE: 76.50067179453062\n",
      "Epoch: 21 - MSE: 76.27312362036895\n",
      "Epoch: 22 - MSE: 76.0478691133489\n",
      "Epoch: 23 - MSE: 75.82498672786402\n",
      "Epoch: 24 - MSE: 75.60454973304854\n",
      "Epoch: 25 - MSE: 75.38662534824276\n",
      "Epoch: 26 - MSE: 75.17127405018766\n",
      "Epoch: 27 - MSE: 74.95854906058393\n",
      "Epoch: 28 - MSE: 74.74849601697166\n",
      "Epoch: 29 - MSE: 74.54115282161862\n",
      "Epoch: 30 - MSE: 74.33654965609004\n",
      "Epoch: 31 - MSE: 74.13470914404212\n",
      "Epoch: 32 - MSE: 73.93564664143233\n",
      "Epoch: 33 - MSE: 73.73937063152908\n",
      "Epoch: 34 - MSE: 73.5458832015912\n",
      "Epoch: 35 - MSE: 73.35518057863823\n",
      "Epoch: 36 - MSE: 73.16725370311546\n",
      "Epoch: 37 - MSE: 72.98208882125353\n",
      "Epoch: 38 - MSE: 72.7996680793263\n",
      "Epoch: 39 - MSE: 72.6199701056339\n",
      "Epoch: 40 - MSE: 72.4429705687215\n",
      "Epoch: 41 - MSE: 72.2686427029599\n",
      "Epoch: 42 - MSE: 72.09695779505923\n",
      "Epoch: 43 - MSE: 71.92788562729466\n",
      "Epoch: 44 - MSE: 71.76139487514861\n",
      "Epoch: 45 - MSE: 71.59745345870111\n",
      "Epoch: 46 - MSE: 71.43602884842372\n",
      "Epoch: 47 - MSE: 71.27708832707148\n",
      "Epoch: 48 - MSE: 71.12059921014018\n",
      "Epoch: 49 - MSE: 70.96652902789744\n",
      "Epoch: 50 - MSE: 70.81484567233433\n",
      "Epoch: 51 - MSE: 70.66551751255605\n",
      "Epoch: 52 - MSE: 70.51851348216624\n",
      "Epoch: 53 - MSE: 70.3738031421297\n",
      "Epoch: 54 - MSE: 70.2313567224509\n",
      "Epoch: 55 - MSE: 70.09114514580064\n",
      "Epoch: 56 - MSE: 69.95314003598374\n",
      "Epoch: 57 - MSE: 69.81731371387934\n",
      "Epoch: 58 - MSE: 69.68363918321678\n",
      "Epoch: 59 - MSE: 69.55209010828325\n",
      "Epoch: 60 - MSE: 69.42264078540158\n",
      "Epoch: 61 - MSE: 69.29526610977273\n",
      "Epoch: 62 - MSE: 69.16994153905102\n",
      "Epoch: 63 - MSE: 69.04664305481371\n",
      "Epoch: 64 - MSE: 68.925347122899\n",
      "Epoch: 65 - MSE: 68.80603065341995\n",
      "Epoch: 66 - MSE: 68.68867096111508\n",
      "Epoch: 67 - MSE: 68.57324572656687\n",
      "Epoch: 68 - MSE: 68.45973295870841\n",
      "Epoch: 69 - MSE: 68.3481109589426\n",
      "Epoch: 70 - MSE: 68.23835828711644\n",
      "Epoch: 71 - MSE: 68.13045372952405\n",
      "Epoch: 72 - MSE: 68.0243762690548\n",
      "Epoch: 73 - MSE: 67.92010505755458\n",
      "Epoch: 74 - MSE: 67.81761939042903\n",
      "Epoch: 75 - MSE: 67.7168986834858\n",
      "Epoch: 76 - MSE: 67.61792245198673\n",
      "Epoch: 77 - MSE: 67.52067029186108\n",
      "Epoch: 78 - MSE: 67.4251218630145\n",
      "Epoch: 79 - MSE: 67.33125687465697\n",
      "Epoch: 80 - MSE: 67.2390550725633\n",
      "Epoch: 81 - MSE: 67.14849622817411\n",
      "Epoch: 82 - MSE: 67.05956012944063\n",
      "Epoch: 83 - MSE: 66.97222657331452\n",
      "Epoch: 84 - MSE: 66.88647535978242\n",
      "Epoch: 85 - MSE: 66.80228628734571\n",
      "Epoch: 86 - MSE: 66.71963914984616\n",
      "Epoch: 87 - MSE: 66.6385137345409\n",
      "Epoch: 88 - MSE: 66.55888982133116\n",
      "Epoch: 89 - MSE: 66.48074718305337\n",
      "Epoch: 90 - MSE: 66.40406558674238\n",
      "Epoch: 91 - MSE: 66.32882479578211\n",
      "Epoch: 92 - MSE: 66.25500457286024\n",
      "Epoch: 93 - MSE: 66.18258468364786\n",
      "Epoch: 94 - MSE: 66.11154490112929\n",
      "Epoch: 95 - MSE: 66.04186501050938\n",
      "Epoch: 96 - MSE: 65.97352481463044\n",
      "Epoch: 97 - MSE: 65.90650413983391\n",
      "Epoch: 98 - MSE: 65.84078284220533\n",
      "Epoch: 99 - MSE: 65.77634081414493\n",
      "Epoch: 100 - MSE: 65.71315799120936\n"
     ]
    }
   ],
   "source": [
    "# set parameters\n",
    "epochs = 100 # number of epochs\n",
    "lr = 0.001 # learning rate\n",
    "hid_size = 20 # number of hidden nodes\n",
    "\n",
    "net = ShallowNet({\"input_size\": X.shape[1], \"hidden_size\": hid_size, 'output_size': 1}) # instantiate class\n",
    "for i in range(epochs):\n",
    "    net.one_epoch(X, y, lr)\n",
    "    print('Epoch: {} - MSE: {}'.format(i+1, net.mse(y)))"
   ]
  },
  {
   "cell_type": "code",
   "execution_count": null,
   "metadata": {},
   "outputs": [],
   "source": []
  }
 ],
 "metadata": {
  "kernelspec": {
   "display_name": "Python 3",
   "language": "python",
   "name": "python3"
  },
  "language_info": {
   "codemirror_mode": {
    "name": "ipython",
    "version": 3
   },
   "file_extension": ".py",
   "mimetype": "text/x-python",
   "name": "python",
   "nbconvert_exporter": "python",
   "pygments_lexer": "ipython3",
   "version": "3.6.5"
  },
  "toc": {
   "base_numbering": 1,
   "nav_menu": {},
   "number_sections": true,
   "sideBar": true,
   "skip_h1_title": false,
   "title_cell": "Table of Contents",
   "title_sidebar": "Contents",
   "toc_cell": false,
   "toc_position": {},
   "toc_section_display": true,
   "toc_window_display": false
  },
  "varInspector": {
   "cols": {
    "lenName": 16,
    "lenType": 16,
    "lenVar": "400"
   },
   "kernels_config": {
    "python": {
     "delete_cmd_postfix": "",
     "delete_cmd_prefix": "del ",
     "library": "var_list.py",
     "varRefreshCmd": "print(var_dic_list())"
    },
    "r": {
     "delete_cmd_postfix": ") ",
     "delete_cmd_prefix": "rm(",
     "library": "var_list.r",
     "varRefreshCmd": "cat(var_dic_list()) "
    }
   },
   "types_to_exclude": [
    "module",
    "function",
    "builtin_function_or_method",
    "instance",
    "_Feature"
   ],
   "window_display": false
  }
 },
 "nbformat": 4,
 "nbformat_minor": 2
}
